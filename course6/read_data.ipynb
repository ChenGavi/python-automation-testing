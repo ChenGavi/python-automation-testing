{
 "cells": [
  {
   "cell_type": "code",
   "execution_count": 32,
   "metadata": {},
   "outputs": [],
   "source": [
    "import pymysql\n",
    "\n",
    "domain = \"\"\n",
    "user = \"sammy\"\n",
    "password = \"\"\n",
    "db_name = \"automation\"\n",
    "\n",
    "def read_employee_list():\n",
    "    db = pymysql.connect(domain, user, password, db_name)\n",
    "    # prepare a cursor object using cursor() method\n",
    "    cursor = db.cursor()\n",
    "    # Prepare SQL query to INSERT a record into the database.\n",
    "    sql = \"SELECT * FROM automation.employee\"\n",
    "\n",
    "    # Execute the SQL command\n",
    "    cursor.execute(sql) \n",
    "    # Fetch all the rows in a list of lists.\n",
    "    return cursor.fetchall()\n"
   ]
  },
  {
   "cell_type": "code",
   "execution_count": 27,
   "metadata": {},
   "outputs": [],
   "source": [
    "def insert_employee(employee):\n",
    "    db = pymysql.connect(domain, user, password, db_name)\n",
    "    table_name=\"employee\"\n",
    "\n",
    "    cursor = db.cursor()\n",
    "\n",
    "    # Prepare SQL query to INSERT a record into the database.\n",
    "    sql = \"INSERT INTO %s (`first_name`, `last_name`, `age`, `sex`) VALUES ('%s','%s', '%d', '%s')\" \\\n",
    "          % (table_name, employee.get_first_name(), employee.get_last_name(), employee.get_age(), employee.get_sex())\n",
    "    # try:\n",
    "    # Execute the SQL command\n",
    "    cursor.execute(sql)\n",
    "    cursor.close()\n",
    "    db.commit()\n"
   ]
  },
  {
   "cell_type": "code",
   "execution_count": 28,
   "metadata": {},
   "outputs": [],
   "source": [
    "class Employee:\n",
    "    __first_name = None\n",
    "    __last_name = None\n",
    "    __age = None\n",
    "    __sex = False\n",
    "\n",
    "    def __init__(self, first_name, last_name,age,sex):\n",
    "        self.__first_name = first_name\n",
    "        self.__last_name = last_name\n",
    "        self.__age = age\n",
    "        self.__sex = sex\n",
    "        \n",
    "    def get_first_name(self):\n",
    "        return self.__first_name\n",
    "        \n",
    "    def get_last_name(self):\n",
    "        return self.__last_name\n",
    "    \n",
    "    def set_age(self, age):\n",
    "        self.__age = age\n",
    "\n",
    "    def get_age(self):\n",
    "        return self.__age\n",
    "\n",
    "    def get_sex(self):\n",
    "        return self.__sex\n",
    "    \n"
   ]
  },
  {
   "cell_type": "code",
   "execution_count": 46,
   "metadata": {},
   "outputs": [
    {
     "name": "stdout",
     "output_type": "stream",
     "text": [
      "(1, 'Charles', 'Cao', 33, 'M', datetime.datetime(2017, 4, 19, 18, 50, 47))\n",
      "(2, 'Jim', 'Wang', 30, 'M', None)\n",
      "(3, 'Jim2', 'Wang', 33, 'M', None)\n",
      "(4, 'Ray', 'Wang', 33, 'M', None)\n",
      "(5, 'Mike', 'Wang', 33, 'M', None)\n",
      "(6, 'Karl', 'Vang', 33, 'M', None)\n",
      "(7, 'Laura', 'Cole', 33, 'M', None)\n",
      "(8, 'Steven', 'Dejesus', 31, 'M', None)\n",
      "(9, 'Candice', 'Park', 17, 'M', None)\n",
      "(10, 'James', 'Trela', 29, 'M', None)\n",
      "(11, 'Kimberly', 'Hsu', 30, 'M', None)\n"
     ]
    }
   ],
   "source": [
    "import names\n",
    "import random\n",
    "employee = Employee(names.get_first_name(), names.get_last_name(),random.randint(16,35),\"M\")\n",
    "insert_employee(employee)\n",
    "for e in read_employee_list():\n",
    "    print(e)"
   ]
  },
  {
   "cell_type": "code",
   "execution_count": null,
   "metadata": {},
   "outputs": [],
   "source": []
  },
  {
   "cell_type": "code",
   "execution_count": null,
   "metadata": {},
   "outputs": [],
   "source": []
  }
 ],
 "metadata": {
  "kernelspec": {
   "display_name": "Python 3",
   "language": "python",
   "name": "python3"
  },
  "language_info": {
   "codemirror_mode": {
    "name": "ipython",
    "version": 3
   },
   "file_extension": ".py",
   "mimetype": "text/x-python",
   "name": "python",
   "nbconvert_exporter": "python",
   "pygments_lexer": "ipython3",
   "version": "3.7.3"
  }
 },
 "nbformat": 4,
 "nbformat_minor": 2
}
